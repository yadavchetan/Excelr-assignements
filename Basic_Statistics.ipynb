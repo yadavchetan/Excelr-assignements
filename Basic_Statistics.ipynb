{
 "cells": [
  {
   "cell_type": "markdown",
   "id": "b063e731",
   "metadata": {},
   "source": [
    "# Assignement Basic Statistics\n",
    "\n",
    "Calculate Mean, Median, Mode, Variance, Standard Deviation, Range & comment about the values/draw inferences, for the given dataset\n",
    "1. For Points, Score, Weigh\n",
    "2. Find Mean, Median, Mode, Variance, Standard Deviation, and Range and also Comment about the values/ Draw some inferences."
   ]
  },
  {
   "cell_type": "code",
   "execution_count": 1,
   "id": "7aa559f2",
   "metadata": {},
   "outputs": [
    {
     "data": {
      "text/plain": [
       "['.ipynb_checkpoints',\n",
       " 'Assignment.docx',\n",
       " 'Basic Statistics.ipynb',\n",
       " 'Cars.csv',\n",
       " 'Computer_Data.csv',\n",
       " 'Q7.csv',\n",
       " 'Q9_a.csv',\n",
       " 'Q9_b.csv',\n",
       " 'Set+1_Descriptive+statistics+Probability+(2).docx',\n",
       " 'Set+2_Normal+Distribution+Functions+of+random+variables+(1).docx',\n",
       " 'Set+3.doc',\n",
       " 'Set+4.docx',\n",
       " 'wc-at.csv']"
      ]
     },
     "execution_count": 1,
     "metadata": {},
     "output_type": "execute_result"
    }
   ],
   "source": [
    "import pandas as pd\n",
    "import numpy as no\n",
    "import matplotlib.pyplot as plt\n",
    "import os\n",
    "os.listdir()\n"
   ]
  },
  {
   "cell_type": "code",
   "execution_count": 2,
   "id": "591e4874",
   "metadata": {},
   "outputs": [
    {
     "data": {
      "text/html": [
       "<div>\n",
       "<style scoped>\n",
       "    .dataframe tbody tr th:only-of-type {\n",
       "        vertical-align: middle;\n",
       "    }\n",
       "\n",
       "    .dataframe tbody tr th {\n",
       "        vertical-align: top;\n",
       "    }\n",
       "\n",
       "    .dataframe thead th {\n",
       "        text-align: right;\n",
       "    }\n",
       "</style>\n",
       "<table border=\"1\" class=\"dataframe\">\n",
       "  <thead>\n",
       "    <tr style=\"text-align: right;\">\n",
       "      <th></th>\n",
       "      <th>Unnamed: 0</th>\n",
       "      <th>Points</th>\n",
       "      <th>Score</th>\n",
       "      <th>Weigh</th>\n",
       "    </tr>\n",
       "  </thead>\n",
       "  <tbody>\n",
       "    <tr>\n",
       "      <th>0</th>\n",
       "      <td>Mazda RX4</td>\n",
       "      <td>3.90</td>\n",
       "      <td>2.620</td>\n",
       "      <td>16.46</td>\n",
       "    </tr>\n",
       "    <tr>\n",
       "      <th>1</th>\n",
       "      <td>Mazda RX4 Wag</td>\n",
       "      <td>3.90</td>\n",
       "      <td>2.875</td>\n",
       "      <td>17.02</td>\n",
       "    </tr>\n",
       "    <tr>\n",
       "      <th>2</th>\n",
       "      <td>Datsun 710</td>\n",
       "      <td>3.85</td>\n",
       "      <td>2.320</td>\n",
       "      <td>18.61</td>\n",
       "    </tr>\n",
       "    <tr>\n",
       "      <th>3</th>\n",
       "      <td>Hornet 4 Drive</td>\n",
       "      <td>3.08</td>\n",
       "      <td>3.215</td>\n",
       "      <td>19.44</td>\n",
       "    </tr>\n",
       "    <tr>\n",
       "      <th>4</th>\n",
       "      <td>Hornet Sportabout</td>\n",
       "      <td>3.15</td>\n",
       "      <td>3.440</td>\n",
       "      <td>17.02</td>\n",
       "    </tr>\n",
       "  </tbody>\n",
       "</table>\n",
       "</div>"
      ],
      "text/plain": [
       "          Unnamed: 0  Points  Score  Weigh\n",
       "0          Mazda RX4    3.90  2.620  16.46\n",
       "1      Mazda RX4 Wag    3.90  2.875  17.02\n",
       "2         Datsun 710    3.85  2.320  18.61\n",
       "3     Hornet 4 Drive    3.08  3.215  19.44\n",
       "4  Hornet Sportabout    3.15  3.440  17.02"
      ]
     },
     "execution_count": 2,
     "metadata": {},
     "output_type": "execute_result"
    }
   ],
   "source": [
    "q7_data = pd.read_csv('Q7.csv')\n",
    "q7_data.head()"
   ]
  },
  {
   "cell_type": "code",
   "execution_count": 3,
   "id": "d238dec2",
   "metadata": {},
   "outputs": [
    {
     "name": "stderr",
     "output_type": "stream",
     "text": [
      "C:\\Users\\cyadav\\AppData\\Local\\Temp\\ipykernel_16520\\953876777.py:3: FutureWarning: Dropping of nuisance columns in DataFrame reductions (with 'numeric_only=None') is deprecated; in a future version this will raise TypeError.  Select only valid columns before calling the reduction.\n",
      "  q7_data.mean()\n"
     ]
    },
    {
     "data": {
      "text/plain": [
       "Points     3.596563\n",
       "Score      3.217250\n",
       "Weigh     17.848750\n",
       "dtype: float64"
      ]
     },
     "execution_count": 3,
     "metadata": {},
     "output_type": "execute_result"
    }
   ],
   "source": [
    "#mean for each column in dataframe\n",
    "#mean is the average value of all the values in the column\n",
    "q7_data.mean()"
   ]
  },
  {
   "cell_type": "code",
   "execution_count": 4,
   "id": "b602a8d9",
   "metadata": {},
   "outputs": [
    {
     "name": "stderr",
     "output_type": "stream",
     "text": [
      "C:\\Users\\cyadav\\AppData\\Local\\Temp\\ipykernel_16520\\1988385749.py:3: FutureWarning: Dropping of nuisance columns in DataFrame reductions (with 'numeric_only=None') is deprecated; in a future version this will raise TypeError.  Select only valid columns before calling the reduction.\n",
      "  q7_data.median()\n"
     ]
    },
    {
     "data": {
      "text/plain": [
       "Points     3.695\n",
       "Score      3.325\n",
       "Weigh     17.710\n",
       "dtype: float64"
      ]
     },
     "execution_count": 4,
     "metadata": {},
     "output_type": "execute_result"
    }
   ],
   "source": [
    "# median for each column in data frame\n",
    "# Median is the middle most value in the column\n",
    "q7_data.median()"
   ]
  },
  {
   "cell_type": "code",
   "execution_count": 5,
   "id": "7ff72105",
   "metadata": {},
   "outputs": [
    {
     "data": {
      "text/html": [
       "<div>\n",
       "<style scoped>\n",
       "    .dataframe tbody tr th:only-of-type {\n",
       "        vertical-align: middle;\n",
       "    }\n",
       "\n",
       "    .dataframe tbody tr th {\n",
       "        vertical-align: top;\n",
       "    }\n",
       "\n",
       "    .dataframe thead th {\n",
       "        text-align: right;\n",
       "    }\n",
       "</style>\n",
       "<table border=\"1\" class=\"dataframe\">\n",
       "  <thead>\n",
       "    <tr style=\"text-align: right;\">\n",
       "      <th></th>\n",
       "      <th>Points</th>\n",
       "      <th>Score</th>\n",
       "      <th>Weigh</th>\n",
       "    </tr>\n",
       "  </thead>\n",
       "  <tbody>\n",
       "    <tr>\n",
       "      <th>0</th>\n",
       "      <td>3.07</td>\n",
       "      <td>3.44</td>\n",
       "      <td>17.02</td>\n",
       "    </tr>\n",
       "    <tr>\n",
       "      <th>1</th>\n",
       "      <td>3.92</td>\n",
       "      <td>NaN</td>\n",
       "      <td>18.90</td>\n",
       "    </tr>\n",
       "  </tbody>\n",
       "</table>\n",
       "</div>"
      ],
      "text/plain": [
       "   Points  Score  Weigh\n",
       "0    3.07   3.44  17.02\n",
       "1    3.92    NaN  18.90"
      ]
     },
     "execution_count": 5,
     "metadata": {},
     "output_type": "execute_result"
    }
   ],
   "source": [
    "# mode in each column in datafarme\n",
    "# mode is the most frequently occuring value in the dataset\n",
    "\n",
    "\n",
    "q7_data.mode(numeric_only=True)"
   ]
  },
  {
   "cell_type": "markdown",
   "id": "b2b29eaa",
   "metadata": {},
   "source": [
    "Above we can see that the \"Points\" & \"Weigh\" column have 2 mode which means that \n",
    "the are bimodal."
   ]
  },
  {
   "cell_type": "code",
   "execution_count": 6,
   "id": "23c8fa6b",
   "metadata": {},
   "outputs": [
    {
     "name": "stderr",
     "output_type": "stream",
     "text": [
      "C:\\Users\\cyadav\\AppData\\Local\\Temp\\ipykernel_16520\\858498384.py:3: FutureWarning: Dropping of nuisance columns in DataFrame reductions (with 'numeric_only=None') is deprecated; in a future version this will raise TypeError.  Select only valid columns before calling the reduction.\n",
      "  q7_data.std()\n"
     ]
    },
    {
     "data": {
      "text/plain": [
       "Points    0.534679\n",
       "Score     0.978457\n",
       "Weigh     1.786943\n",
       "dtype: float64"
      ]
     },
     "execution_count": 6,
     "metadata": {},
     "output_type": "execute_result"
    }
   ],
   "source": [
    "# find the standard deviation \n",
    "\n",
    "q7_data.std()"
   ]
  },
  {
   "cell_type": "markdown",
   "id": "a9953a20",
   "metadata": {},
   "source": [
    "Standard deviation is a number that describes how spread out the observations are.\n",
    "\n",
    "Standard Deviation is often represented by the symbol Sigma: σ\n",
    "\n",
    "It is a measure of how far each observed value is from the mean. In any distribution, about 95% of values will be within 2 standard deviations of the mean.\n",
    "\n",
    "In a normally distributed data:\n",
    "- 1 std = 68% of the data\n",
    "- 2 std = 95% of the data\n",
    "- 3 std = 99.7% of the data\n"
   ]
  },
  {
   "cell_type": "code",
   "execution_count": 7,
   "id": "b92cdd75",
   "metadata": {},
   "outputs": [
    {
     "name": "stdout",
     "output_type": "stream",
     "text": [
      "14.5\n",
      "22.9\n"
     ]
    }
   ],
   "source": [
    "print(q7_data['Weigh'].min())\n",
    "print(q7_data['Weigh'].max())"
   ]
  },
  {
   "cell_type": "code",
   "execution_count": 8,
   "id": "5506abc8",
   "metadata": {},
   "outputs": [
    {
     "name": "stderr",
     "output_type": "stream",
     "text": [
      "C:\\Users\\cyadav\\AppData\\Local\\Temp\\ipykernel_16520\\3713638624.py:2: FutureWarning: Dropping of nuisance columns in DataFrame reductions (with 'numeric_only=None') is deprecated; in a future version this will raise TypeError.  Select only valid columns before calling the reduction.\n",
      "  q7_data.var()\n"
     ]
    },
    {
     "data": {
      "text/plain": [
       "Points    0.285881\n",
       "Score     0.957379\n",
       "Weigh     3.193166\n",
       "dtype: float64"
      ]
     },
     "execution_count": 8,
     "metadata": {},
     "output_type": "execute_result"
    }
   ],
   "source": [
    "# check the variance of the columns in dataset\n",
    "q7_data.var()"
   ]
  },
  {
   "cell_type": "code",
   "execution_count": 9,
   "id": "cf19a62b",
   "metadata": {},
   "outputs": [
    {
     "data": {
      "text/plain": [
       "8.399999999999999"
      ]
     },
     "execution_count": 9,
     "metadata": {},
     "output_type": "execute_result"
    }
   ],
   "source": [
    "# trying to find the range\n",
    "q7_data['Weigh'].max() - q7_data['Weigh'].min()"
   ]
  },
  {
   "cell_type": "code",
   "execution_count": 10,
   "id": "ca78d21f",
   "metadata": {},
   "outputs": [
    {
     "name": "stdout",
     "output_type": "stream",
     "text": [
      "Points    2.170\n",
      "Score     3.911\n",
      "Weigh     8.400\n",
      "dtype: float64\n"
     ]
    }
   ],
   "source": [
    "#finding range\n",
    "print(q7_data.max(numeric_only=True) - q7_data.min(numeric_only=True))"
   ]
  },
  {
   "cell_type": "code",
   "execution_count": 11,
   "id": "8776b9cd",
   "metadata": {},
   "outputs": [
    {
     "data": {
      "text/plain": [
       "Text(0.5, 0, 'Dataset')"
      ]
     },
     "execution_count": 11,
     "metadata": {},
     "output_type": "execute_result"
    },
    {
     "data": {
      "image/png": "[encoded data removed]",
      "text/plain": [
       "<Figure size 432x288 with 1 Axes>"
      ]
     },
     "metadata": {
      "needs_background": "light"
     },
     "output_type": "display_data"
    }
   ],
   "source": [
    "#box plot for each column in dataset\n",
    "\n",
    "q7_data.plot.box(y=['Points','Score','Weigh'])\n",
    "plt.xlabel('Dataset')"
   ]
  },
  {
   "cell_type": "code",
   "execution_count": 12,
   "id": "f6599f68",
   "metadata": {},
   "outputs": [
    {
     "data": {
      "text/plain": [
       "<AxesSubplot:ylabel='Frequency'>"
      ]
     },
     "execution_count": 12,
     "metadata": {},
     "output_type": "execute_result"
    },
    {
     "data": {
      "image/png": "[encoded data removed]",
      "text/plain": [
       "<Figure size 432x288 with 1 Axes>"
      ]
     },
     "metadata": {
      "needs_background": "light"
     },
     "output_type": "display_data"
    }
   ],
   "source": [
    "# ploting histogram\n",
    "\n",
    "q7_data.plot.hist(bins=60, alpha=0.5)"
   ]
  },
  {
   "cell_type": "markdown",
   "id": "25526a38",
   "metadata": {},
   "source": [
    "Calculate Skewness, Kurtosis & draw inferences on the following data.\n",
    "\n",
    "- Cars speed and distance (Use Q9_a.csv) \n",
    "- SP and Weight(WT) (Use Q9_b.csv)\n",
    "\n",
    "Skewness: Skewness is the measure of the asymmetry of an ideally symmetric probability distribution and is given by the third standardized moment. If that sounds way too complex, don’t worry! Let me break it down for you.\n",
    "\n",
    "In simple words, skewness is the measure of how much the probability distribution of a random variable deviates from the normal distribution. Now, you might be thinking – why am I talking about normal distribution here?\n",
    "IMPORTANCE:linear models work on the assumption that the distribution of the independent variable and the target variable are similar. Therefore, knowing about the skewness of data helps us in creating better linear models.\n",
    "\n",
    "\n",
    "Kurtosis:Kurtosis refers to the degree of presence of outliers in the distribution. Kurtosis is a statistical measure, whether the data is heavy-tailed or light-tailed in a normal distribution.\n",
    "When data skewed, the tail region may behave as an outlier for the statistical model, and outliers unsympathetically affect the model’s performance especially regression-based models. Some statistical models are hardy to outliers like Tree-based models, but it will limit the possibility to try other models. So there is a necessity to transform the skewed data to close enough to a Normal distribution.\n",
    "\n",
    "Excess kurtosis can be positive (Leptokurtic distribution), negative (Platykurtic distribution), or near to zero (Mesokurtic distribution). Leptokurtic distribution (kurtosis more than normal distribution).Mesokurtic distribution (kurtosis same as the normal distribution).Platykurtic distribution (kurtosis less than normal distribution).\n",
    "\n"
   ]
  },
  {
   "cell_type": "code",
   "execution_count": 13,
   "id": "97ad7d3f",
   "metadata": {},
   "outputs": [],
   "source": [
    "import scipy.stats as stats\n",
    "from scipy.stats import kurtosis, skew\n",
    "import seaborn as sns"
   ]
  },
  {
   "cell_type": "code",
   "execution_count": 14,
   "id": "0a12261b",
   "metadata": {},
   "outputs": [],
   "source": [
    "q9_data = pd.read_csv('Q9_a.csv')\n",
    "q9b_data = pd.read_csv('Q9_b.csv')"
   ]
  },
  {
   "cell_type": "code",
   "execution_count": 15,
   "id": "80ef956f",
   "metadata": {},
   "outputs": [
    {
     "name": "stdout",
     "output_type": "stream",
     "text": [
      "\n",
      "------------Kurtosis for normal distribution --------------\n",
      "\n",
      "[-1.20096038 -0.57714742  0.24801866]\n"
     ]
    },
    {
     "name": "stderr",
     "output_type": "stream",
     "text": [
      "C:\\Users\\cyadav\\Anaconda3\\lib\\site-packages\\seaborn\\distributions.py:2619: FutureWarning: `distplot` is a deprecated function and will be removed in a future version. Please adapt your code to use either `displot` (a figure-level function with similar flexibility) or `histplot` (an axes-level function for histograms).\n",
      "  warnings.warn(msg, FutureWarning)\n"
     ]
    },
    {
     "data": {
      "text/plain": [
       "<matplotlib.legend.Legend at 0x238a139b070>"
      ]
     },
     "execution_count": 15,
     "metadata": {},
     "output_type": "execute_result"
    },
    {
     "data": {
      "image/png": "[encoded data removed]",
      "text/plain": [
       "<Figure size 432x288 with 1 Axes>"
      ]
     },
     "metadata": {
      "needs_background": "light"
     },
     "output_type": "display_data"
    }
   ],
   "source": [
    "print('\\n------------Kurtosis for normal distribution --------------\\n')\n",
    "\n",
    "print(kurtosis(q9_data))\n",
    "sns.distplot(kurtosis(q9_data), label = 'Kurtosis')\n",
    "plt.xlabel('speed')\n",
    "plt.ylabel('distance')\n",
    "plt.legend()"
   ]
  },
  {
   "cell_type": "code",
   "execution_count": 16,
   "id": "86f117f6",
   "metadata": {},
   "outputs": [
    {
     "name": "stdout",
     "output_type": "stream",
     "text": [
      "\n",
      "------------Skewness for normal distribution --------------\n",
      "\n",
      "[ 0.         -0.11395477  0.78248352]\n"
     ]
    },
    {
     "name": "stderr",
     "output_type": "stream",
     "text": [
      "C:\\Users\\cyadav\\Anaconda3\\lib\\site-packages\\seaborn\\distributions.py:2619: FutureWarning: `distplot` is a deprecated function and will be removed in a future version. Please adapt your code to use either `displot` (a figure-level function with similar flexibility) or `histplot` (an axes-level function for histograms).\n",
      "  warnings.warn(msg, FutureWarning)\n"
     ]
    },
    {
     "data": {
      "text/plain": [
       "<matplotlib.legend.Legend at 0x238a22d7c70>"
      ]
     },
     "execution_count": 16,
     "metadata": {},
     "output_type": "execute_result"
    },
    {
     "data": {
      "image/png": "[encoded data removed]",
      "text/plain": [
       "<Figure size 432x288 with 1 Axes>"
      ]
     },
     "metadata": {
      "needs_background": "light"
     },
     "output_type": "display_data"
    }
   ],
   "source": [
    "print('\\n------------Skewness for normal distribution --------------\\n')\n",
    "\n",
    "print(skew(q9_data))\n",
    "sns.distplot(skew(q9_data), label = 'Kurtosis')\n",
    "plt.xlabel('speed')\n",
    "plt.ylabel('distance')\n",
    "plt.legend()"
   ]
  },
  {
   "cell_type": "code",
   "execution_count": 17,
   "id": "907034ed",
   "metadata": {},
   "outputs": [
    {
     "data": {
      "text/html": [
       "<div>\n",
       "<style scoped>\n",
       "    .dataframe tbody tr th:only-of-type {\n",
       "        vertical-align: middle;\n",
       "    }\n",
       "\n",
       "    .dataframe tbody tr th {\n",
       "        vertical-align: top;\n",
       "    }\n",
       "\n",
       "    .dataframe thead th {\n",
       "        text-align: right;\n",
       "    }\n",
       "</style>\n",
       "<table border=\"1\" class=\"dataframe\">\n",
       "  <thead>\n",
       "    <tr style=\"text-align: right;\">\n",
       "      <th></th>\n",
       "      <th>Unnamed: 0</th>\n",
       "      <th>SP</th>\n",
       "      <th>WT</th>\n",
       "    </tr>\n",
       "  </thead>\n",
       "  <tbody>\n",
       "    <tr>\n",
       "      <th>0</th>\n",
       "      <td>1</td>\n",
       "      <td>104.185353</td>\n",
       "      <td>28.762059</td>\n",
       "    </tr>\n",
       "    <tr>\n",
       "      <th>1</th>\n",
       "      <td>2</td>\n",
       "      <td>105.461264</td>\n",
       "      <td>30.466833</td>\n",
       "    </tr>\n",
       "    <tr>\n",
       "      <th>2</th>\n",
       "      <td>3</td>\n",
       "      <td>105.461264</td>\n",
       "      <td>30.193597</td>\n",
       "    </tr>\n",
       "    <tr>\n",
       "      <th>3</th>\n",
       "      <td>4</td>\n",
       "      <td>113.461264</td>\n",
       "      <td>30.632114</td>\n",
       "    </tr>\n",
       "    <tr>\n",
       "      <th>4</th>\n",
       "      <td>5</td>\n",
       "      <td>104.461264</td>\n",
       "      <td>29.889149</td>\n",
       "    </tr>\n",
       "  </tbody>\n",
       "</table>\n",
       "</div>"
      ],
      "text/plain": [
       "   Unnamed: 0          SP         WT\n",
       "0           1  104.185353  28.762059\n",
       "1           2  105.461264  30.466833\n",
       "2           3  105.461264  30.193597\n",
       "3           4  113.461264  30.632114\n",
       "4           5  104.461264  29.889149"
      ]
     },
     "execution_count": 17,
     "metadata": {},
     "output_type": "execute_result"
    }
   ],
   "source": [
    "q9b_data.head()"
   ]
  },
  {
   "cell_type": "code",
   "execution_count": 18,
   "id": "de69110c",
   "metadata": {},
   "outputs": [
    {
     "name": "stdout",
     "output_type": "stream",
     "text": [
      "\n",
      "------------------Kurtosis for normal distribution-----------\n",
      " Unnamed: 0   -1.200000\n",
      "SP            2.977329\n",
      "WT            0.950291\n",
      "dtype: float64\n"
     ]
    },
    {
     "name": "stderr",
     "output_type": "stream",
     "text": [
      "C:\\Users\\cyadav\\Anaconda3\\lib\\site-packages\\seaborn\\distributions.py:2619: FutureWarning: `distplot` is a deprecated function and will be removed in a future version. Please adapt your code to use either `displot` (a figure-level function with similar flexibility) or `histplot` (an axes-level function for histograms).\n",
      "  warnings.warn(msg, FutureWarning)\n"
     ]
    },
    {
     "data": {
      "text/plain": [
       "<matplotlib.legend.Legend at 0x238a2767c10>"
      ]
     },
     "execution_count": 18,
     "metadata": {},
     "output_type": "execute_result"
    },
    {
     "data": {
      "image/png": "[encoded data removed]",
      "text/plain": [
       "<Figure size 432x288 with 1 Axes>"
      ]
     },
     "metadata": {
      "needs_background": "light"
     },
     "output_type": "display_data"
    }
   ],
   "source": [
    "print('\\n------------------Kurtosis for normal distribution-----------\\n', q9b_data.kurt())\n",
    "\n",
    "sns.distplot(kurtosis(q9b_data), label='Kurtosis')\n",
    "plt.xlabel('SP')\n",
    "plt.ylabel('WT')\n",
    "plt.legend()\n"
   ]
  },
  {
   "cell_type": "code",
   "execution_count": 19,
   "id": "d0e5bb65",
   "metadata": {},
   "outputs": [
    {
     "name": "stdout",
     "output_type": "stream",
     "text": [
      "\n",
      "------------Skewness for Normal Distribution--------\n",
      " Unnamed: 0    0.000000\n",
      "SP            1.611450\n",
      "WT           -0.614753\n",
      "dtype: float64\n",
      "[ 0.          1.58145368 -0.60330993]\n"
     ]
    },
    {
     "name": "stderr",
     "output_type": "stream",
     "text": [
      "C:\\Users\\cyadav\\Anaconda3\\lib\\site-packages\\seaborn\\distributions.py:2619: FutureWarning: `distplot` is a deprecated function and will be removed in a future version. Please adapt your code to use either `displot` (a figure-level function with similar flexibility) or `histplot` (an axes-level function for histograms).\n",
      "  warnings.warn(msg, FutureWarning)\n"
     ]
    },
    {
     "data": {
      "text/plain": [
       "<matplotlib.legend.Legend at 0x238a27e5fd0>"
      ]
     },
     "execution_count": 19,
     "metadata": {},
     "output_type": "execute_result"
    },
    {
     "data": {
      "image/png": "[encoded data removed]",
      "text/plain": [
       "<Figure size 432x288 with 1 Axes>"
      ]
     },
     "metadata": {
      "needs_background": "light"
     },
     "output_type": "display_data"
    }
   ],
   "source": [
    "print ('\\n------------Skewness for Normal Distribution--------\\n', q9b_data.skew())\n",
    "print(skew(q9b_data))\n",
    "#plt.plot(Q9B_data)\n",
    "#plt.show()\n",
    "\n",
    "sns.distplot(skew(q9b_data), label = 'Skewness')\n",
    "plt.xlabel('SP')\n",
    "plt.ylabel('WT')\n",
    "plt.legend()"
   ]
  },
  {
   "cell_type": "markdown",
   "id": "89f530d7",
   "metadata": {},
   "source": [
    "# Calculate probability from the given dataset for the below cases\n",
    "\n",
    "Data _set: Cars.csv\n",
    "Calculate the probability of MPG  of Cars for the below cases.\n",
    "-\tP(MPG>38)\n",
    "-\tP(MPG<40)\n",
    "-   P(20<MPG<50)"
   ]
  },
  {
   "cell_type": "code",
   "execution_count": 20,
   "id": "2b1225f8",
   "metadata": {},
   "outputs": [
    {
     "data": {
      "text/html": [
       "<div>\n",
       "<style scoped>\n",
       "    .dataframe tbody tr th:only-of-type {\n",
       "        vertical-align: middle;\n",
       "    }\n",
       "\n",
       "    .dataframe tbody tr th {\n",
       "        vertical-align: top;\n",
       "    }\n",
       "\n",
       "    .dataframe thead th {\n",
       "        text-align: right;\n",
       "    }\n",
       "</style>\n",
       "<table border=\"1\" class=\"dataframe\">\n",
       "  <thead>\n",
       "    <tr style=\"text-align: right;\">\n",
       "      <th></th>\n",
       "      <th>HP</th>\n",
       "      <th>MPG</th>\n",
       "      <th>VOL</th>\n",
       "      <th>SP</th>\n",
       "      <th>WT</th>\n",
       "    </tr>\n",
       "  </thead>\n",
       "  <tbody>\n",
       "    <tr>\n",
       "      <th>0</th>\n",
       "      <td>49</td>\n",
       "      <td>53.700681</td>\n",
       "      <td>89</td>\n",
       "      <td>104.185353</td>\n",
       "      <td>28.762059</td>\n",
       "    </tr>\n",
       "    <tr>\n",
       "      <th>1</th>\n",
       "      <td>55</td>\n",
       "      <td>50.013401</td>\n",
       "      <td>92</td>\n",
       "      <td>105.461264</td>\n",
       "      <td>30.466833</td>\n",
       "    </tr>\n",
       "    <tr>\n",
       "      <th>2</th>\n",
       "      <td>55</td>\n",
       "      <td>50.013401</td>\n",
       "      <td>92</td>\n",
       "      <td>105.461264</td>\n",
       "      <td>30.193597</td>\n",
       "    </tr>\n",
       "    <tr>\n",
       "      <th>3</th>\n",
       "      <td>70</td>\n",
       "      <td>45.696322</td>\n",
       "      <td>92</td>\n",
       "      <td>113.461264</td>\n",
       "      <td>30.632114</td>\n",
       "    </tr>\n",
       "    <tr>\n",
       "      <th>4</th>\n",
       "      <td>53</td>\n",
       "      <td>50.504232</td>\n",
       "      <td>92</td>\n",
       "      <td>104.461264</td>\n",
       "      <td>29.889149</td>\n",
       "    </tr>\n",
       "  </tbody>\n",
       "</table>\n",
       "</div>"
      ],
      "text/plain": [
       "   HP        MPG  VOL          SP         WT\n",
       "0  49  53.700681   89  104.185353  28.762059\n",
       "1  55  50.013401   92  105.461264  30.466833\n",
       "2  55  50.013401   92  105.461264  30.193597\n",
       "3  70  45.696322   92  113.461264  30.632114\n",
       "4  53  50.504232   92  104.461264  29.889149"
      ]
     },
     "execution_count": 20,
     "metadata": {},
     "output_type": "execute_result"
    }
   ],
   "source": [
    "cars_df = pd.read_csv('Cars.csv')\n",
    "cars_df.head()"
   ]
  },
  {
   "cell_type": "code",
   "execution_count": 21,
   "id": "5c8b3ce5",
   "metadata": {},
   "outputs": [
    {
     "name": "stdout",
     "output_type": "stream",
     "text": [
      "\n",
      "------------Probability of MPG of Cars P(MPG<38)--------\n",
      "\n"
     ]
    },
    {
     "data": {
      "text/plain": [
       "59.25925925925925"
      ]
     },
     "execution_count": 21,
     "metadata": {},
     "output_type": "execute_result"
    }
   ],
   "source": [
    "# probalility of MPB > 38\n",
    "print ('\\n------------Probability of MPG of Cars P(MPG<38)--------\\n')\n",
    "\n",
    "\n",
    "col= cars_df['MPG']\n",
    "events = col[col<38].count()\n",
    "outcomes = col.count()\n",
    "p = events/outcomes\n",
    "p*100"
   ]
  },
  {
   "cell_type": "code",
   "execution_count": 22,
   "id": "1aa3907b",
   "metadata": {},
   "outputs": [
    {
     "name": "stdout",
     "output_type": "stream",
     "text": [
      "\n",
      "------------Probability of MPG of Cars P(MPG<38)--------\n",
      "\n"
     ]
    },
    {
     "data": {
      "text/plain": [
       "75.30864197530865"
      ]
     },
     "execution_count": 22,
     "metadata": {},
     "output_type": "execute_result"
    }
   ],
   "source": [
    "# P(MPG<40)\n",
    "print ('\\n------------Probability of MPG of Cars P(MPG<38)--------\\n')\n",
    "\n",
    "col= cars_df['MPG']\n",
    "events = col[col<40].count()\n",
    "outcomes = col.count()\n",
    "p = events/outcomes\n",
    "p*100"
   ]
  },
  {
   "cell_type": "code",
   "execution_count": 23,
   "id": "e4545a36",
   "metadata": {},
   "outputs": [
    {
     "name": "stdout",
     "output_type": "stream",
     "text": [
      "\n",
      "------------Probability of MPG of Cars P(20<MPG<50)--------\n",
      "\n"
     ]
    },
    {
     "data": {
      "text/plain": [
       "85.18518518518519"
      ]
     },
     "execution_count": 23,
     "metadata": {},
     "output_type": "execute_result"
    }
   ],
   "source": [
    "# c. P(20<MPG<50)\n",
    "print ('\\n------------Probability of MPG of Cars P(20<MPG<50)--------\\n')\n",
    "\n",
    "col= cars_df['MPG']\n",
    "events = col[(col>20) & (col<50)].count()\n",
    "outcomes = col.count()\n",
    "p = events/outcomes\n",
    "p*100"
   ]
  },
  {
   "cell_type": "markdown",
   "id": "9b6b8a19",
   "metadata": {},
   "source": [
    "# Check whether the data follows normal distribution\n",
    "- a) Check whether the MPG of Cars follows Normal Distribution Dataset: Cars.csv \n",
    "- b) Check Whether the Adipose Tissue (AT) and Waist Circumference (Waist) from wc-at data set follows Normal Distribution Dataset: wc-at.csv"
   ]
  },
  {
   "cell_type": "code",
   "execution_count": 24,
   "id": "56eaaed1",
   "metadata": {},
   "outputs": [
    {
     "name": "stderr",
     "output_type": "stream",
     "text": [
      "C:\\Users\\cyadav\\Anaconda3\\lib\\site-packages\\seaborn\\distributions.py:2619: FutureWarning: `distplot` is a deprecated function and will be removed in a future version. Please adapt your code to use either `displot` (a figure-level function with similar flexibility) or `histplot` (an axes-level function for histograms).\n",
      "  warnings.warn(msg, FutureWarning)\n"
     ]
    },
    {
     "data": {
      "image/png": "[encoded data removed]",
      "text/plain": [
       "<Figure size 432x288 with 1 Axes>"
      ]
     },
     "metadata": {
      "needs_background": "light"
     },
     "output_type": "display_data"
    }
   ],
   "source": [
    "sns.distplot(cars_df, label='MPG')\n",
    "plt.xlabel('MPG');\n",
    "plt.ylabel('Density');\n",
    "plt.legend();"
   ]
  },
  {
   "cell_type": "code",
   "execution_count": 25,
   "id": "b931d1a9",
   "metadata": {},
   "outputs": [],
   "source": [
    "wcat_df = pd.read_csv('wc-at.csv')"
   ]
  },
  {
   "cell_type": "code",
   "execution_count": 26,
   "id": "f4c79c98",
   "metadata": {},
   "outputs": [
    {
     "name": "stderr",
     "output_type": "stream",
     "text": [
      "C:\\Users\\cyadav\\Anaconda3\\lib\\site-packages\\seaborn\\distributions.py:2619: FutureWarning: `distplot` is a deprecated function and will be removed in a future version. Please adapt your code to use either `displot` (a figure-level function with similar flexibility) or `histplot` (an axes-level function for histograms).\n",
      "  warnings.warn(msg, FutureWarning)\n"
     ]
    },
    {
     "data": {
      "image/png": "[encoded data removed]",
      "text/plain": [
       "<Figure size 432x288 with 1 Axes>"
      ]
     },
     "metadata": {
      "needs_background": "light"
     },
     "output_type": "display_data"
    }
   ],
   "source": [
    "sns.distplot(wcat_df, label = 'WAIST');\n",
    "plt.xlabel('Waist');\n",
    "plt.ylabel('Density');\n",
    "plt.legend();"
   ]
  },
  {
   "cell_type": "code",
   "execution_count": 27,
   "id": "2d37b87a",
   "metadata": {},
   "outputs": [
    {
     "name": "stderr",
     "output_type": "stream",
     "text": [
      "C:\\Users\\cyadav\\Anaconda3\\lib\\site-packages\\seaborn\\distributions.py:2619: FutureWarning: `distplot` is a deprecated function and will be removed in a future version. Please adapt your code to use either `displot` (a figure-level function with similar flexibility) or `histplot` (an axes-level function for histograms).\n",
      "  warnings.warn(msg, FutureWarning)\n"
     ]
    },
    {
     "data": {
      "image/png": "[encoded data removed]",
      "text/plain": [
       "<Figure size 432x288 with 1 Axes>"
      ]
     },
     "metadata": {
      "needs_background": "light"
     },
     "output_type": "display_data"
    }
   ],
   "source": [
    "sns.distplot(wcat_df, label='AT')\n",
    "plt.xlabel('AT')\n",
    "plt.ylabel('Density')\n",
    "plt.legend();"
   ]
  },
  {
   "cell_type": "markdown",
   "id": "db087865",
   "metadata": {},
   "source": [
    "#### A Government company claims that an average light bulb lasts 270 days. A researcher randomly selects 18 bulbs for testing. The sampled bulbs last an average of 260 days, with a standard deviation of 90 days. If the CEO's claim were true, what is the probability that 18 randomly selected bulbs would have an average life of no more than 260 days"
   ]
  },
  {
   "cell_type": "code",
   "execution_count": 30,
   "id": "baf397ad",
   "metadata": {},
   "outputs": [
    {
     "name": "stdout",
     "output_type": "stream",
     "text": [
      "\n",
      "-------------Standard Error-------\n",
      " 21.213203435596427\n",
      "\n",
      "-------------T_Score-------\n",
      " -0.4714045207910317\n"
     ]
    }
   ],
   "source": [
    "# population Mean of Light bulb last = 270 days\n",
    "# Sample = 18 bulds\n",
    "# Sample Mean = 260 days\n",
    "# Sample Standard Deviation = 90 days\n",
    "# Probability for sample = ?\n",
    "import numpy as np\n",
    "from scipy import stats\n",
    "from scipy.stats import norm\n",
    "pop_mean = 270\n",
    "sample_size = 18\n",
    "sample_mean = 260\n",
    "sample_sd = 90\n",
    "standard_error = sample_sd/np.sqrt(sample_size)\n",
    "t_score = (sample_mean -pop_mean)/standard_error\n",
    "print('\\n-------------Standard Error-------\\n',standard_error)\n",
    "print('\\n-------------T_Score-------\\n',t_score)"
   ]
  },
  {
   "cell_type": "code",
   "execution_count": 31,
   "id": "37854b73",
   "metadata": {},
   "outputs": [
    {
     "name": "stdout",
     "output_type": "stream",
     "text": [
      "\n",
      "-------------Critical Value-------\n",
      " 18.644853626951473\n"
     ]
    }
   ],
   "source": [
    "# Calculate Degree of Freedom\n",
    "df = sample_size - 1\n",
    "alpha = 0.05\n",
    "critical_value = norm.ppf(1.0 - alpha,df)\n",
    "print('\\n-------------Critical Value-------\\n',critical_value)"
   ]
  },
  {
   "cell_type": "code",
   "execution_count": 32,
   "id": "01f4a160",
   "metadata": {},
   "outputs": [
    {
     "name": "stdout",
     "output_type": "stream",
     "text": [
      "\n",
      "-------------Probability Value-------\n",
      " 2.0\n"
     ]
    }
   ],
   "source": [
    "probability = (1-norm.cdf(abs(t_score),df))*2.0\n",
    "print('\\n-------------Probability Value-------\\n',probability)"
   ]
  },
  {
   "cell_type": "code",
   "execution_count": 33,
   "id": "8a92542f",
   "metadata": {},
   "outputs": [
    {
     "name": "stdout",
     "output_type": "stream",
     "text": [
      "Accept null hypothesis that the means are equal.\n"
     ]
    }
   ],
   "source": [
    "# interpret via critical value\n",
    "if abs(t_score) <= critical_value:\n",
    "\tprint('Accept null hypothesis that the means are equal.')\n",
    "else:\n",
    "\tprint('Reject the null hypothesis that the means are equal.')"
   ]
  },
  {
   "cell_type": "code",
   "execution_count": 34,
   "id": "57b7019c",
   "metadata": {},
   "outputs": [
    {
     "name": "stdout",
     "output_type": "stream",
     "text": [
      "Accept null hypothesis that the means are equal.\n"
     ]
    }
   ],
   "source": [
    "# interpret via p-value\n",
    "if probability > alpha:\n",
    "\tprint('Accept null hypothesis that the means are equal.')\n",
    "else:\n",
    "\tprint('Reject the null hypothesis that the means are equal.')"
   ]
  },
  {
   "cell_type": "code",
   "execution_count": 35,
   "id": "b129e164",
   "metadata": {},
   "outputs": [
    {
     "name": "stdout",
     "output_type": "stream",
     "text": [
      "-1.6448536269514729\n",
      "[ 0.45724611  0.08593523 -0.32310331 -0.57647751 -0.04576833  0.1875653\n",
      " -0.74367784 -0.06919197  0.24848639 -0.51354495 -0.09830471  1.24250388\n",
      " -1.04293651  0.77932174  1.3537543   0.83768033  1.72925543  0.76709857\n",
      "  0.75036863  0.89221076 -1.34695709  0.79673123 -0.65249861  0.27514619\n",
      "  0.92511433  0.55277302 -0.35291913  0.95346628 -0.40326573 -0.61708215\n",
      "  0.75675086  0.56878261 -1.72894185  0.8777814   1.45629365 -1.00653546\n",
      " -1.24001439 -1.14039149 -1.3335851  -1.27725897 -0.30573709 -0.01150159\n",
      "  1.07134744 -1.04590751 -0.2842561   0.02199027  0.74510275  0.95899218\n",
      " -1.26883247 -0.97276831  0.69084182  0.48160488  1.48673262  1.00929571\n",
      " -0.94249121 -0.47115373 -0.87436837 -0.71921857  0.0260933  -0.80321832\n",
      "  1.775256    0.01097752 -0.30081383  0.65653197 -0.15008111  0.78326547\n",
      " -1.61038687 -0.36772655  1.0929446   1.22147774  0.90644408 -0.41840652\n",
      "  0.86067687  1.12468534 -1.75308355 -1.85518826 -0.70167818 -1.20736682\n",
      " -0.48403644  0.86184295  1.61570674  1.12286613  1.43459442  0.73388842\n",
      " -0.80400643  0.560478   -0.01031014  0.39071094 -0.31949427 -0.18876988]\n"
     ]
    }
   ],
   "source": [
    "print(norm.ppf(0.05))\n",
    "print(norm.rvs(size=90))"
   ]
  },
  {
   "cell_type": "code",
   "execution_count": null,
   "id": "28ea1ac4",
   "metadata": {},
   "outputs": [],
   "source": []
  },
  {
   "cell_type": "code",
   "execution_count": null,
   "id": "79214a21",
   "metadata": {},
   "outputs": [],
   "source": []
  }
 ],
 "metadata": {
  "kernelspec": {
   "display_name": "Python 3 (ipykernel)",
   "language": "python",
   "name": "python3"
  },
  "language_info": {
   "codemirror_mode": {
    "name": "ipython",
    "version": 3
   },
   "file_extension": ".py",
   "mimetype": "text/x-python",
   "name": "python",
   "nbconvert_exporter": "python",
   "pygments_lexer": "ipython3",
   "version": "3.9.12"
  }
 },
 "nbformat": 4,
 "nbformat_minor": 5
}
